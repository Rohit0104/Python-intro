{
 "cells": [
  {
   "cell_type": "code",
   "execution_count": 1,
   "id": "1d5338a7",
   "metadata": {},
   "outputs": [
    {
     "data": {
      "text/plain": [
       "11"
      ]
     },
     "execution_count": 1,
     "metadata": {},
     "output_type": "execute_result"
    }
   ],
   "source": [
    "5 + 6"
   ]
  },
  {
   "cell_type": "code",
   "execution_count": 5,
   "id": "1e0482fa",
   "metadata": {},
   "outputs": [
    {
     "data": {
      "text/plain": [
       "30"
      ]
     },
     "execution_count": 5,
     "metadata": {},
     "output_type": "execute_result"
    }
   ],
   "source": [
    "5*6"
   ]
  },
  {
   "cell_type": "code",
   "execution_count": 6,
   "id": "c6c0b0d1",
   "metadata": {},
   "outputs": [
    {
     "data": {
      "text/plain": [
       "-1"
      ]
     },
     "execution_count": 6,
     "metadata": {},
     "output_type": "execute_result"
    }
   ],
   "source": [
    "5-6"
   ]
  },
  {
   "cell_type": "markdown",
   "id": "ea9104d1",
   "metadata": {},
   "source": [
    "# comment"
   ]
  },
  {
   "cell_type": "code",
   "execution_count": 8,
   "id": "88e8ee08",
   "metadata": {},
   "outputs": [
    {
     "data": {
      "text/plain": [
       "30"
      ]
     },
     "execution_count": 8,
     "metadata": {},
     "output_type": "execute_result"
    }
   ],
   "source": [
    "#single line comment\n",
    "#is used for commenting a line\n",
    "#add two number\n",
    "10+20\n"
   ]
  },
  {
   "cell_type": "code",
   "execution_count": 9,
   "id": "c0c36b73",
   "metadata": {},
   "outputs": [
    {
     "data": {
      "text/plain": [
       "45"
      ]
     },
     "execution_count": 9,
     "metadata": {},
     "output_type": "execute_result"
    }
   ],
   "source": [
    "\"\"\"\n",
    "LIne1\n",
    "Line2\n",
    "Line3\n",
    "\"\"\"\n",
    "5*9"
   ]
  },
  {
   "cell_type": "markdown",
   "id": "ede34eed",
   "metadata": {},
   "source": [
    "# quotes"
   ]
  },
  {
   "cell_type": "code",
   "execution_count": 11,
   "id": "9cb69bb0",
   "metadata": {},
   "outputs": [
    {
     "data": {
      "text/plain": [
       "'Rohit Gaikwad'"
      ]
     },
     "execution_count": 11,
     "metadata": {},
     "output_type": "execute_result"
    }
   ],
   "source": [
    "name = \"Rohit Gaikwad\"\n",
    "name"
   ]
  },
  {
   "cell_type": "code",
   "execution_count": 12,
   "id": "3802ffa2",
   "metadata": {},
   "outputs": [
    {
     "name": "stdout",
     "output_type": "stream",
     "text": [
      "ROhit Gaikwad\n"
     ]
    }
   ],
   "source": [
    "name = \"ROhit Gaikwad\"\n",
    "print(name)"
   ]
  },
  {
   "cell_type": "code",
   "execution_count": 15,
   "id": "baf8aaea",
   "metadata": {},
   "outputs": [
    {
     "data": {
      "text/plain": [
       "\"st's joseph engg college\""
      ]
     },
     "execution_count": 15,
     "metadata": {},
     "output_type": "execute_result"
    }
   ],
   "source": [
    "college = \"st\\'s joseph engg college\"\n",
    "college"
   ]
  },
  {
   "cell_type": "code",
   "execution_count": 20,
   "id": "45c8c6f7",
   "metadata": {},
   "outputs": [
    {
     "name": "stdout",
     "output_type": "stream",
     "text": [
      "enter your age 10\n",
      "You cannot vote\n",
      "because you are less than 18 yrs old\n",
      "out of conditional statement\n"
     ]
    }
   ],
   "source": [
    "x =int(input(\"enter your age \"))\n",
    "age =x\n",
    "if age>18 and age<=100:\n",
    "    print(\"you can vote\")\n",
    "    print(\"it is valid only for indian citizen\")\n",
    "elif age<0 or age >100:\n",
    "    print(\"Invalid age. please check\")\n",
    "elif age ==0:\n",
    "    print(\"you are a just born babe!\")\n",
    "else:\n",
    "    print(\"You cannot vote\")\n",
    "    print(\"because you are less than 18 yrs old\")\n",
    "print(\"out of conditional statement\")"
   ]
  },
  {
   "cell_type": "code",
   "execution_count": 23,
   "id": "a27ea926",
   "metadata": {},
   "outputs": [
    {
     "name": "stdout",
     "output_type": "stream",
     "text": [
      "cant go for voting\n"
     ]
    }
   ],
   "source": [
    "age = 3 \n",
    "country = \"india\"\n",
    "if country == \"india\":\n",
    "    if age>18:\n",
    "        print(\"You are eligible to vote\")\n",
    "    else:\n",
    "        print(\"cant go for voting\")\n",
    "else:\n",
    "    print(\"Pls follow your own coutry:{} standard\".format(country))"
   ]
  },
  {
   "cell_type": "code",
   "execution_count": null,
   "id": "333f63bf",
   "metadata": {},
   "outputs": [],
   "source": []
  }
 ],
 "metadata": {
  "kernelspec": {
   "display_name": "Python 3 (ipykernel)",
   "language": "python",
   "name": "python3"
  },
  "language_info": {
   "codemirror_mode": {
    "name": "ipython",
    "version": 3
   },
   "file_extension": ".py",
   "mimetype": "text/x-python",
   "name": "python",
   "nbconvert_exporter": "python",
   "pygments_lexer": "ipython3",
   "version": "3.9.7"
  }
 },
 "nbformat": 4,
 "nbformat_minor": 5
}
